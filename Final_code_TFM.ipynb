{
 "cells": [
  {
   "cell_type": "markdown",
   "metadata": {},
   "source": [
    "### Oversampling with VAE - from tensorflow / tabular data "
   ]
  },
  {
   "cell_type": "code",
   "execution_count": 1,
   "metadata": {},
   "outputs": [],
   "source": [
    "import warnings\n",
    "warnings.filterwarnings('ignore')\n",
    "warnings.simplefilter('ignore')\n",
    "from os.path import exists\n",
    "import pandas as pd\n",
    "pd.options.display.max_rows\n",
    "from sklearn.preprocessing import StandardScaler\n",
    "from sklearn.model_selection import train_test_split\n",
    "from xgboost import XGBClassifier\n",
    "from sklearn.metrics import classification_report, average_precision_score, precision_recall_curve\n",
    "import numpy as np\n",
    "from sklearn.ensemble import BaggingClassifier, RandomForestClassifier\n",
    "from sklearn.model_selection import cross_val_score\n",
    "from sklearn.metrics import confusion_matrix, accuracy_score\n",
    "import pickle\n",
    "import matplotlib.pyplot as plt\n",
    "import seaborn as sns"
   ]
  },
  {
   "cell_type": "code",
   "execution_count": 2,
   "metadata": {},
   "outputs": [],
   "source": [
    "# 1. Load the data and change columns names\n",
    "data = pd.read_excel('final.xlsm', header=None)\n",
    "data.columns =['Strain_ID', 'Genome_length', 'Ratio_1kbp_bins_covered', 'Ratio_GC-content_uncovered_bins', 'Ratio_N-content_uncovered_bins', 'Reads_mapped', 'Total_reads', 'Class']\n",
    "# 2. Drop the Strain_ID column\n",
    "data = data.drop(['Strain_ID'], axis=1)\n",
    "# 3. Normalize columns except Class col\n",
    "sc = StandardScaler()\n",
    "data[['Genome_length', 'Ratio_1kbp_bins_covered', 'Ratio_GC-content_uncovered_bins', 'Ratio_N-content_uncovered_bins', 'Reads_mapped', 'Total_reads']] = sc.fit_transform(data[['Genome_length', 'Ratio_1kbp_bins_covered', 'Ratio_GC-content_uncovered_bins', 'Ratio_N-content_uncovered_bins', 'Reads_mapped', 'Total_reads']])\n",
    "\n",
    "\n",
    "# 1. Prepare data: \n",
    "def prepare_data(data,random_state=12):\n",
    "    X = data.drop('Class', axis=1)\n",
    "    y = data['Class']\n",
    "    xtrain, xtest, ytrain, ytest = train_test_split(X, y, test_size=0.2, random_state=random_state)\n",
    "    dftrain = [xtrain, ytrain]\n",
    "    dftest = [xtest, ytest]\n",
    "    return pd.concat(dftrain, axis=1), pd.concat(dftest, axis=1)"
   ]
  },
  {
   "cell_type": "code",
   "execution_count": 3,
   "metadata": {},
   "outputs": [],
   "source": [
    "data.to_excel('data.xlsx')"
   ]
  },
  {
   "cell_type": "code",
   "execution_count": 4,
   "metadata": {},
   "outputs": [],
   "source": [
    "# Use the function to obtain 2 dataframes: \n",
    "dftrain, dftest = prepare_data(data)"
   ]
  },
  {
   "cell_type": "code",
   "execution_count": 5,
   "metadata": {},
   "outputs": [
    {
     "data": {
      "text/plain": [
       "<matplotlib.axes._subplots.AxesSubplot at 0x12337ad30>"
      ]
     },
     "execution_count": 5,
     "metadata": {},
     "output_type": "execute_result"
    },
    {
     "data": {
      "image/png": "[encoded data removed]",
      "text/plain": [
       "<Figure size 432x288 with 1 Axes>"
      ]
     },
     "metadata": {
      "needs_background": "light"
     },
     "output_type": "display_data"
    }
   ],
   "source": [
    "sns.countplot(data['Class']) # initial distribution of data \n"
   ]
  },
  {
   "cell_type": "code",
   "execution_count": 6,
   "metadata": {},
   "outputs": [],
   "source": [
    "# 2. Strains function: \n",
    "def strain(dftrain, dftest):\n",
    "    ''' 1. select only Class = 1 values '''\n",
    "    strain = dftrain[dftrain.Class==1].sample(frac=1)\n",
    "    ''' 2. drop class from the dataset '''\n",
    "    strain = strain.drop(['Class'], axis=1)\n",
    "    straintest = dftest[dftest.Class==1].sample(frac=1)\n",
    "    straintest = straintest.drop(['Class'], axis=1)\n",
    "    return strain, straintest  "
   ]
  },
  {
   "cell_type": "code",
   "execution_count": 7,
   "metadata": {},
   "outputs": [],
   "source": [
    "import tensorflow as tf\n",
    "from tensorflow.keras.layers import InputLayer, Dense, Flatten, Reshape\n",
    "from tensorflow.keras import Sequential\n",
    "import time\n",
    "import numpy as np"
   ]
  },
  {
   "cell_type": "code",
   "execution_count": 8,
   "metadata": {},
   "outputs": [],
   "source": [
    "# This code is taken from Tensorflow tutorial on VAEs. It's turned from a CNN to a simple neuralnet which is more appropriate for our case here.\n",
    "\n",
    "# almost the standard for activation these days\n",
    "relu = tf.nn.relu\n",
    "\n",
    "\n",
    "class VAE(tf.keras.Model):\n",
    "    \"\"\"\n",
    "    A VAE class inhereted from keras.Model\n",
    "\n",
    "    parameters:\n",
    "    ndim (int): number of dimensions of the input data\n",
    "    latent_dim (int): number of dimensions of the latent variable\n",
    "\n",
    "    attributes:\n",
    "    ndim (int): number of dimensions of the input\n",
    "    latent_dim (int): number of dimensions of the latent variable\n",
    "    inference_net (keras.Sequential): The inference model that takes an input of size=(None, ndim) and return a matrix of size=(None, latent_dim)\n",
    "    generative_net (keras.Sequential): The generative model that takes an input of size=(None, latent_dim) and return a matrix of size=(None, ndim)\n",
    "    \"\"\"\n",
    "    def __init__(self, ndim, latent_dim):\n",
    "        super(VAE, self).__init__()\n",
    "        self.latent_dim = latent_dim  \n",
    "        self.ndim = ndim        \n",
    "        self.inference_net = Sequential(\n",
    "            [\n",
    "                InputLayer(input_shape=(ndim,)),\n",
    "                Dense(100, activation=relu),\n",
    "                Dense(2 * latent_dim)\n",
    "            ]\n",
    "        )\n",
    "        \n",
    "        self.generative_net = Sequential(\n",
    "            [\n",
    "                InputLayer(input_shape=(latent_dim,)),\n",
    "                Dense(100, activation=relu),\n",
    "                Dense(ndim)\n",
    "            ])\n",
    "\n",
    "    @tf.function\n",
    "    def sample(self, num_samples=100, eps=None):\n",
    "        \"\"\"\n",
    "        Given an input noise of size (num_samples, latent_dim), generate samples of size (num_samples, ndim)\n",
    "\n",
    "        parameters:\n",
    "        num_samples (int): number of samples\n",
    "        eps (numpy.ndarray): input noise. if specified, num_samples is ignored\n",
    "\n",
    "        returns:\n",
    "        numpy.ndarray: the decoded samples\n",
    "        \"\"\"\n",
    "        if eps is None:\n",
    "            eps = tf.random.normal(shape=(num_samples, self.latent_dim))\n",
    "        return self.decode(eps)\n",
    "\n",
    "    def encode(self, x):\n",
    "        \"\"\"\n",
    "        \n",
    "        parameters:\n",
    "        x (numpy.ndarray): the input data with size (None, ndim)\n",
    "\n",
    "        returns:\n",
    "        numpy.ndarray: the mean of the latent variables\n",
    "        numpy.ndarray: the log variance of the latent variables\n",
    "        \"\"\"\n",
    "        mean, logvar = tf.split(self.inference_net(x), num_or_size_splits=2, axis=1)\n",
    "        return mean, logvar\n",
    "\n",
    "    def reparameterize(self, mean, logvar):\n",
    "        \"\"\"\n",
    "        Reparameterize the input for backpropagation\n",
    "\n",
    "        parameters:\n",
    "        mean (numpy.ndarray): the mean of the latent variables\n",
    "        logvar (numpy.ndarray): the log variance of the latent variables\n",
    "\n",
    "        returns:\n",
    "        numpy.ndarray: the noise samples from a normal distribution around mean with standard deviation exp(logvar / 2)\n",
    "        \"\"\"\n",
    "        eps = tf.random.normal(shape=mean.shape)\n",
    "        return eps * tf.exp(logvar * 0.5) + mean\n",
    "\n",
    "    def decode(self, z):\n",
    "        \"\"\"\n",
    "        Given an input noise generates the decoded samples\n",
    "\n",
    "        parameters:\n",
    "        z (numpy.ndarray): the input noise (None, latent_dim)\n",
    "\n",
    "        returns:\n",
    "        numpy.ndarray: the decoded samples of size (None, ndim)\n",
    "        \"\"\"\n",
    "        return self.generative_net(z)"
   ]
  },
  {
   "cell_type": "code",
   "execution_count": 9,
   "metadata": {},
   "outputs": [],
   "source": [
    "# a function for computing the KL term of Gaussian distribution\n",
    "def log_normal_pdf(sample, mean, logvar, raxis=1):\n",
    "    log2pi = tf.math.log(2. * np.pi)\n",
    "    return tf.reduce_sum(-0.5 * ((sample - mean) ** 2. * tf.exp(-logvar) + logvar + log2pi),\n",
    "                         axis=raxis)\n",
    "\n",
    "# a function to compute the loss of the VAE\n",
    "@tf.function\n",
    "def compute_loss(model, x):\n",
    "    mean, logvar = model.encode(x)\n",
    "    logvar = tf.clip_by_value(logvar, -88., 88.)\n",
    "    z = model.reparameterize(mean, logvar)\n",
    "    xmean = model.decode(z)\n",
    "    logpx_z = -tf.reduce_sum((x - xmean) ** 2, axis=1)  # ad-hoc l2 loss that is pretty close to log-prob of a gaussian distribution withtout taking into account the variance\n",
    "    logpz = log_normal_pdf(z, 0.0, 0.0)\n",
    "    logqz_x = log_normal_pdf(z, mean, logvar)\n",
    "    return -tf.reduce_mean(logpx_z + logpz - logqz_x)\n",
    "\n",
    "# A function that given the model computes the loss, the gradients and apply the parameter update\n",
    "@tf.function\n",
    "def compute_apply_gradients(model, x, optimizer):\n",
    "    with tf.GradientTape() as tape:\n",
    "        loss = compute_loss(model, x)\n",
    "    gradients = tape.gradient(loss, model.trainable_variables)\n",
    "    optimizer.apply_gradients(zip(gradients, model.trainable_variables))"
   ]
  },
  {
   "cell_type": "code",
   "execution_count": 10,
   "metadata": {},
   "outputs": [],
   "source": [
    "def train(xtrain, xtest, model=None, load=False, filepath=None):\n",
    "    optimizer = tf.keras.optimizers.Adam(1e-3)\n",
    "    epochs = 2000\n",
    "    latent_dim = 6 # number of our columns\n",
    "    num_train, ndim = xtrain.shape\n",
    "    num_test, _ = xtest.shape\n",
    "    if model is None:\n",
    "        model = VAE(ndim, latent_dim)\n",
    "    if load and filepath is not None:\n",
    "        model.load_weights(filepath=filepath)\n",
    "        return model\n",
    "    else:\n",
    "        batch_size = 32\n",
    "        train_dataset = tf.data.Dataset.from_tensor_slices(xtrain.values.astype(np.float32)).shuffle(num_train).batch(\n",
    "            batch_size)\n",
    "\n",
    "        test_dataset = tf.data.Dataset.from_tensor_slices(xtest.values.astype(np.float32)).shuffle(num_test).batch(num_test)\n",
    "\n",
    "        for epoch in range(1, epochs + 1):\n",
    "            start_time = time.time()\n",
    "            for train_x in train_dataset:\n",
    "                compute_apply_gradients(model, train_x, optimizer)\n",
    "            end_time = time.time()\n",
    "\n",
    "            if epoch % 100 == 0:\n",
    "                loss = tf.keras.metrics.Mean()\n",
    "                for test_x in test_dataset:\n",
    "                    loss(compute_loss(model, test_x))\n",
    "                elbo = -loss.result()\n",
    "                print('Epoch: {}, Test set psudo-ELBO: {}, '\n",
    "                      'time elapse for current epoch {}'.format(epoch, elbo, end_time - start_time))\n",
    "                model.save_weights('saved_models/model_%d_at_%d' % (latent_dim, epoch))\n",
    "    return model"
   ]
  },
  {
   "cell_type": "code",
   "execution_count": 11,
   "metadata": {},
   "outputs": [],
   "source": [
    "# function to increase the 1 of Class \n",
    "def increasing(data, model):\n",
    "    np.random.seed(12)\n",
    "    ''' num_samples = number of values of majority class (0) '''\n",
    "    num_samples = num_samples = data['Class'].value_counts()[0] - data['Class'].value_counts()[1]  # values of class == 1 \n",
    "    samples = model.sample(num_samples=num_samples).numpy()\n",
    "    ''' creating new dataframe with sampled values '''\n",
    "    dfnew = pd.DataFrame(samples, columns=data.columns.drop('Class'))\n",
    "    dfnew['Class'] = np.ones(len(samples), dtype=np.int)\n",
    "    # dfnew = pd.concat((data, dfnew), ignore_index=True).sample(frac=1)\n",
    "    return dfnew"
   ]
  },
  {
   "cell_type": "code",
   "execution_count": 12,
   "metadata": {},
   "outputs": [
    {
     "name": "stdout",
     "output_type": "stream",
     "text": [
      "Epoch: 100, Test set psudo-ELBO: -7.884058475494385, time elapse for current epoch 0.009447097778320312\n",
      "Epoch: 200, Test set psudo-ELBO: -7.654962062835693, time elapse for current epoch 0.009231805801391602\n",
      "Epoch: 300, Test set psudo-ELBO: -7.074985980987549, time elapse for current epoch 0.011126995086669922\n",
      "Epoch: 400, Test set psudo-ELBO: -6.751537322998047, time elapse for current epoch 0.009316205978393555\n",
      "Epoch: 500, Test set psudo-ELBO: -6.851338863372803, time elapse for current epoch 0.008263349533081055\n",
      "Epoch: 600, Test set psudo-ELBO: -6.584784030914307, time elapse for current epoch 0.018030881881713867\n",
      "Epoch: 700, Test set psudo-ELBO: -6.305478572845459, time elapse for current epoch 0.010635137557983398\n",
      "Epoch: 800, Test set psudo-ELBO: -6.041736125946045, time elapse for current epoch 0.013313055038452148\n",
      "Epoch: 900, Test set psudo-ELBO: -5.810840606689453, time elapse for current epoch 0.00789785385131836\n",
      "Epoch: 1000, Test set psudo-ELBO: -5.844872951507568, time elapse for current epoch 0.007877111434936523\n",
      "Epoch: 1100, Test set psudo-ELBO: -5.984947681427002, time elapse for current epoch 0.012613296508789062\n",
      "Epoch: 1200, Test set psudo-ELBO: -5.6716766357421875, time elapse for current epoch 0.008004903793334961\n",
      "Epoch: 1300, Test set psudo-ELBO: -5.554898738861084, time elapse for current epoch 0.008073806762695312\n",
      "Epoch: 1400, Test set psudo-ELBO: -5.940219879150391, time elapse for current epoch 0.009072065353393555\n",
      "Epoch: 1500, Test set psudo-ELBO: -5.731597900390625, time elapse for current epoch 0.00869607925415039\n",
      "Epoch: 1600, Test set psudo-ELBO: -5.499889373779297, time elapse for current epoch 0.008804082870483398\n",
      "Epoch: 1700, Test set psudo-ELBO: -5.36591100692749, time elapse for current epoch 0.008101224899291992\n",
      "Epoch: 1800, Test set psudo-ELBO: -5.262110233306885, time elapse for current epoch 0.007884025573730469\n",
      "Epoch: 1900, Test set psudo-ELBO: -5.216376304626465, time elapse for current epoch 0.01127171516418457\n",
      "Epoch: 2000, Test set psudo-ELBO: -5.268119812011719, time elapse for current epoch 0.008679389953613281\n"
     ]
    }
   ],
   "source": [
    "# Use the function to obtain 2 dataframes: \n",
    "dftrain, dftest = prepare_data(data)\n",
    "# get the strains'presence distribution \n",
    "strain, straintest = strain(dftrain, dftest)\n",
    "# get the traied VAE model\n",
    "model = train(strain, straintest)"
   ]
  },
  {
   "cell_type": "code",
   "execution_count": 13,
   "metadata": {},
   "outputs": [],
   "source": [
    "# augment the data using the VAE model\n",
    "data_increased = increasing(dftrain, model)"
   ]
  },
  {
   "cell_type": "code",
   "execution_count": 14,
   "metadata": {},
   "outputs": [
    {
     "data": {
      "text/html": [
       "<div>\n",
       "<style scoped>\n",
       "    .dataframe tbody tr th:only-of-type {\n",
       "        vertical-align: middle;\n",
       "    }\n",
       "\n",
       "    .dataframe tbody tr th {\n",
       "        vertical-align: top;\n",
       "    }\n",
       "\n",
       "    .dataframe thead th {\n",
       "        text-align: right;\n",
       "    }\n",
       "</style>\n",
       "<table border=\"1\" class=\"dataframe\">\n",
       "  <thead>\n",
       "    <tr style=\"text-align: right;\">\n",
       "      <th></th>\n",
       "      <th>Genome_length</th>\n",
       "      <th>Ratio_1kbp_bins_covered</th>\n",
       "      <th>Ratio_GC-content_uncovered_bins</th>\n",
       "      <th>Ratio_N-content_uncovered_bins</th>\n",
       "      <th>Reads_mapped</th>\n",
       "      <th>Total_reads</th>\n",
       "    </tr>\n",
       "    <tr>\n",
       "      <th>Class</th>\n",
       "      <th></th>\n",
       "      <th></th>\n",
       "      <th></th>\n",
       "      <th></th>\n",
       "      <th></th>\n",
       "      <th></th>\n",
       "    </tr>\n",
       "  </thead>\n",
       "  <tbody>\n",
       "    <tr>\n",
       "      <th>0</th>\n",
       "      <td>-0.016082</td>\n",
       "      <td>-0.06098</td>\n",
       "      <td>0.016543</td>\n",
       "      <td>0.003079</td>\n",
       "      <td>-0.060841</td>\n",
       "      <td>-0.005691</td>\n",
       "    </tr>\n",
       "    <tr>\n",
       "      <th>1</th>\n",
       "      <td>0.405132</td>\n",
       "      <td>1.53619</td>\n",
       "      <td>-0.416753</td>\n",
       "      <td>-0.077574</td>\n",
       "      <td>1.532687</td>\n",
       "      <td>0.143355</td>\n",
       "    </tr>\n",
       "  </tbody>\n",
       "</table>\n",
       "</div>"
      ],
      "text/plain": [
       "       Genome_length  Ratio_1kbp_bins_covered  \\\n",
       "Class                                           \n",
       "0          -0.016082                 -0.06098   \n",
       "1           0.405132                  1.53619   \n",
       "\n",
       "       Ratio_GC-content_uncovered_bins  Ratio_N-content_uncovered_bins  \\\n",
       "Class                                                                    \n",
       "0                             0.016543                        0.003079   \n",
       "1                            -0.416753                       -0.077574   \n",
       "\n",
       "       Reads_mapped  Total_reads  \n",
       "Class                             \n",
       "0         -0.060841    -0.005691  \n",
       "1          1.532687     0.143355  "
      ]
     },
     "execution_count": 14,
     "metadata": {},
     "output_type": "execute_result"
    }
   ],
   "source": [
    "data.groupby('Class').mean() #1.53619 and 1.532687"
   ]
  },
  {
   "cell_type": "code",
   "execution_count": 15,
   "metadata": {},
   "outputs": [
    {
     "data": {
      "text/html": [
       "<div>\n",
       "<style scoped>\n",
       "    .dataframe tbody tr th:only-of-type {\n",
       "        vertical-align: middle;\n",
       "    }\n",
       "\n",
       "    .dataframe tbody tr th {\n",
       "        vertical-align: top;\n",
       "    }\n",
       "\n",
       "    .dataframe thead th {\n",
       "        text-align: right;\n",
       "    }\n",
       "</style>\n",
       "<table border=\"1\" class=\"dataframe\">\n",
       "  <thead>\n",
       "    <tr style=\"text-align: right;\">\n",
       "      <th></th>\n",
       "      <th>Genome_length</th>\n",
       "      <th>Ratio_1kbp_bins_covered</th>\n",
       "      <th>Ratio_GC-content_uncovered_bins</th>\n",
       "      <th>Ratio_N-content_uncovered_bins</th>\n",
       "      <th>Reads_mapped</th>\n",
       "      <th>Total_reads</th>\n",
       "    </tr>\n",
       "    <tr>\n",
       "      <th>Class</th>\n",
       "      <th></th>\n",
       "      <th></th>\n",
       "      <th></th>\n",
       "      <th></th>\n",
       "      <th></th>\n",
       "      <th></th>\n",
       "    </tr>\n",
       "  </thead>\n",
       "  <tbody>\n",
       "    <tr>\n",
       "      <th>1</th>\n",
       "      <td>0.301065</td>\n",
       "      <td>1.616199</td>\n",
       "      <td>-0.464017</td>\n",
       "      <td>-0.154447</td>\n",
       "      <td>1.491072</td>\n",
       "      <td>0.186285</td>\n",
       "    </tr>\n",
       "  </tbody>\n",
       "</table>\n",
       "</div>"
      ],
      "text/plain": [
       "       Genome_length  Ratio_1kbp_bins_covered  \\\n",
       "Class                                           \n",
       "1           0.301065                 1.616199   \n",
       "\n",
       "       Ratio_GC-content_uncovered_bins  Ratio_N-content_uncovered_bins  \\\n",
       "Class                                                                    \n",
       "1                            -0.464017                       -0.154447   \n",
       "\n",
       "       Reads_mapped  Total_reads  \n",
       "Class                             \n",
       "1          1.491072     0.186285  "
      ]
     },
     "execution_count": 15,
     "metadata": {},
     "output_type": "execute_result"
    }
   ],
   "source": [
    "data_increased.groupby('Class').mean() #1.586048 and 1.500616"
   ]
  },
  {
   "cell_type": "code",
   "execution_count": 16,
   "metadata": {},
   "outputs": [
    {
     "data": {
      "text/plain": [
       "(2322, 7)"
      ]
     },
     "execution_count": 16,
     "metadata": {},
     "output_type": "execute_result"
    }
   ],
   "source": [
    "data_increased.shape # 2322"
   ]
  },
  {
   "cell_type": "code",
   "execution_count": 17,
   "metadata": {},
   "outputs": [],
   "source": [
    "data_increased.to_excel('data_increased.xlsx')"
   ]
  },
  {
   "cell_type": "code",
   "execution_count": 18,
   "metadata": {},
   "outputs": [],
   "source": [
    "def augment_data_interpolation(data, model):\n",
    "    num_samples = data['Class'].value_counts()[0] - data['Class'].value_counts()[1]\n",
    "    X = data[data['Class'] == 1].drop(['Class'], axis=1)\n",
    "    z, _ = model.encode(X.values.astype(np.float32))\n",
    "    z1 = pd.DataFrame(z).sample(frac=num_samples / len(z), replace=True)\n",
    "    z2 = z1.sample(frac=1)\n",
    "    r = np.random.rand(*z1.shape)\n",
    "    z = r * z1.values + (1 - r) * z2.values\n",
    "    samples = model.decode(z.astype(np.float32)).numpy()\n",
    "    dfnew = pd.DataFrame(samples, columns=data.columns.drop('Class'))\n",
    "    dfnew['Class'] = np.ones(len(samples), dtype=np.int)\n",
    "    # dfnew = pd.concat((data, dfnew), ignore_index=True).sample(frac=1)\n",
    "    return dfnew"
   ]
  },
  {
   "cell_type": "code",
   "execution_count": 19,
   "metadata": {},
   "outputs": [],
   "source": [
    "data_interpolated = augment_data_interpolation(data, model)"
   ]
  },
  {
   "cell_type": "code",
   "execution_count": 20,
   "metadata": {},
   "outputs": [
    {
     "data": {
      "text/html": [
       "<div>\n",
       "<style scoped>\n",
       "    .dataframe tbody tr th:only-of-type {\n",
       "        vertical-align: middle;\n",
       "    }\n",
       "\n",
       "    .dataframe tbody tr th {\n",
       "        vertical-align: top;\n",
       "    }\n",
       "\n",
       "    .dataframe thead th {\n",
       "        text-align: right;\n",
       "    }\n",
       "</style>\n",
       "<table border=\"1\" class=\"dataframe\">\n",
       "  <thead>\n",
       "    <tr style=\"text-align: right;\">\n",
       "      <th></th>\n",
       "      <th>Genome_length</th>\n",
       "      <th>Ratio_1kbp_bins_covered</th>\n",
       "      <th>Ratio_GC-content_uncovered_bins</th>\n",
       "      <th>Ratio_N-content_uncovered_bins</th>\n",
       "      <th>Reads_mapped</th>\n",
       "      <th>Total_reads</th>\n",
       "    </tr>\n",
       "    <tr>\n",
       "      <th>Class</th>\n",
       "      <th></th>\n",
       "      <th></th>\n",
       "      <th></th>\n",
       "      <th></th>\n",
       "      <th></th>\n",
       "      <th></th>\n",
       "    </tr>\n",
       "  </thead>\n",
       "  <tbody>\n",
       "    <tr>\n",
       "      <th>1</th>\n",
       "      <td>0.276933</td>\n",
       "      <td>1.585271</td>\n",
       "      <td>-0.460965</td>\n",
       "      <td>-0.187147</td>\n",
       "      <td>1.170088</td>\n",
       "      <td>0.036149</td>\n",
       "    </tr>\n",
       "  </tbody>\n",
       "</table>\n",
       "</div>"
      ],
      "text/plain": [
       "       Genome_length  Ratio_1kbp_bins_covered  \\\n",
       "Class                                           \n",
       "1           0.276933                 1.585271   \n",
       "\n",
       "       Ratio_GC-content_uncovered_bins  Ratio_N-content_uncovered_bins  \\\n",
       "Class                                                                    \n",
       "1                            -0.460965                       -0.187147   \n",
       "\n",
       "       Reads_mapped  Total_reads  \n",
       "Class                             \n",
       "1          1.170088     0.036149  "
      ]
     },
     "execution_count": 20,
     "metadata": {},
     "output_type": "execute_result"
    }
   ],
   "source": [
    "data_interpolated.groupby('Class').mean()"
   ]
  },
  {
   "cell_type": "code",
   "execution_count": 21,
   "metadata": {},
   "outputs": [
    {
     "data": {
      "text/html": [
       "<div>\n",
       "<style scoped>\n",
       "    .dataframe tbody tr th:only-of-type {\n",
       "        vertical-align: middle;\n",
       "    }\n",
       "\n",
       "    .dataframe tbody tr th {\n",
       "        vertical-align: top;\n",
       "    }\n",
       "\n",
       "    .dataframe thead th {\n",
       "        text-align: right;\n",
       "    }\n",
       "</style>\n",
       "<table border=\"1\" class=\"dataframe\">\n",
       "  <thead>\n",
       "    <tr style=\"text-align: right;\">\n",
       "      <th></th>\n",
       "      <th>Genome_length</th>\n",
       "      <th>Ratio_1kbp_bins_covered</th>\n",
       "      <th>Ratio_GC-content_uncovered_bins</th>\n",
       "      <th>Ratio_N-content_uncovered_bins</th>\n",
       "      <th>Reads_mapped</th>\n",
       "      <th>Total_reads</th>\n",
       "    </tr>\n",
       "    <tr>\n",
       "      <th>Class</th>\n",
       "      <th></th>\n",
       "      <th></th>\n",
       "      <th></th>\n",
       "      <th></th>\n",
       "      <th></th>\n",
       "      <th></th>\n",
       "    </tr>\n",
       "  </thead>\n",
       "  <tbody>\n",
       "    <tr>\n",
       "      <th>0</th>\n",
       "      <td>-0.016082</td>\n",
       "      <td>-0.06098</td>\n",
       "      <td>0.016543</td>\n",
       "      <td>0.003079</td>\n",
       "      <td>-0.060841</td>\n",
       "      <td>-0.005691</td>\n",
       "    </tr>\n",
       "    <tr>\n",
       "      <th>1</th>\n",
       "      <td>0.405132</td>\n",
       "      <td>1.53619</td>\n",
       "      <td>-0.416753</td>\n",
       "      <td>-0.077574</td>\n",
       "      <td>1.532687</td>\n",
       "      <td>0.143355</td>\n",
       "    </tr>\n",
       "  </tbody>\n",
       "</table>\n",
       "</div>"
      ],
      "text/plain": [
       "       Genome_length  Ratio_1kbp_bins_covered  \\\n",
       "Class                                           \n",
       "0          -0.016082                 -0.06098   \n",
       "1           0.405132                  1.53619   \n",
       "\n",
       "       Ratio_GC-content_uncovered_bins  Ratio_N-content_uncovered_bins  \\\n",
       "Class                                                                    \n",
       "0                             0.016543                        0.003079   \n",
       "1                            -0.416753                       -0.077574   \n",
       "\n",
       "       Reads_mapped  Total_reads  \n",
       "Class                             \n",
       "0         -0.060841    -0.005691  \n",
       "1          1.532687     0.143355  "
      ]
     },
     "execution_count": 21,
     "metadata": {},
     "output_type": "execute_result"
    }
   ],
   "source": [
    "data.groupby('Class').mean()"
   ]
  },
  {
   "cell_type": "code",
   "execution_count": 22,
   "metadata": {},
   "outputs": [
    {
     "data": {
      "text/plain": [
       "(2903, 7)"
      ]
     },
     "execution_count": 22,
     "metadata": {},
     "output_type": "execute_result"
    }
   ],
   "source": [
    "data_interpolated.shape"
   ]
  },
  {
   "cell_type": "code",
   "execution_count": 23,
   "metadata": {},
   "outputs": [],
   "source": [
    "# 1. Merging the new and the original data:\n",
    "merged_data = pd.concat((data, data_increased), ignore_index=True) # .sample(frac=1)\n",
    "\n",
    "# 2. Shuffle data \n",
    "from sklearn.utils import shuffle\n",
    "merged_data = shuffle(merged_data)"
   ]
  },
  {
   "cell_type": "code",
   "execution_count": 24,
   "metadata": {},
   "outputs": [
    {
     "data": {
      "text/html": [
       "<div>\n",
       "<style scoped>\n",
       "    .dataframe tbody tr th:only-of-type {\n",
       "        vertical-align: middle;\n",
       "    }\n",
       "\n",
       "    .dataframe tbody tr th {\n",
       "        vertical-align: top;\n",
       "    }\n",
       "\n",
       "    .dataframe thead th {\n",
       "        text-align: right;\n",
       "    }\n",
       "</style>\n",
       "<table border=\"1\" class=\"dataframe\">\n",
       "  <thead>\n",
       "    <tr style=\"text-align: right;\">\n",
       "      <th></th>\n",
       "      <th>Genome_length</th>\n",
       "      <th>Ratio_1kbp_bins_covered</th>\n",
       "      <th>Ratio_GC-content_uncovered_bins</th>\n",
       "      <th>Ratio_N-content_uncovered_bins</th>\n",
       "      <th>Reads_mapped</th>\n",
       "      <th>Total_reads</th>\n",
       "      <th>Class</th>\n",
       "    </tr>\n",
       "  </thead>\n",
       "  <tbody>\n",
       "    <tr>\n",
       "      <th>2109</th>\n",
       "      <td>-0.398347</td>\n",
       "      <td>-0.211648</td>\n",
       "      <td>-1.529774</td>\n",
       "      <td>-0.167432</td>\n",
       "      <td>-0.113029</td>\n",
       "      <td>-0.619181</td>\n",
       "      <td>0</td>\n",
       "    </tr>\n",
       "    <tr>\n",
       "      <th>4661</th>\n",
       "      <td>-0.197923</td>\n",
       "      <td>3.096748</td>\n",
       "      <td>-0.394659</td>\n",
       "      <td>-0.079079</td>\n",
       "      <td>2.263796</td>\n",
       "      <td>-0.118312</td>\n",
       "      <td>1</td>\n",
       "    </tr>\n",
       "    <tr>\n",
       "      <th>5297</th>\n",
       "      <td>-0.282902</td>\n",
       "      <td>-0.122032</td>\n",
       "      <td>-1.558441</td>\n",
       "      <td>-0.077109</td>\n",
       "      <td>-0.143124</td>\n",
       "      <td>-0.491011</td>\n",
       "      <td>1</td>\n",
       "    </tr>\n",
       "    <tr>\n",
       "      <th>1107</th>\n",
       "      <td>-0.793125</td>\n",
       "      <td>-0.183680</td>\n",
       "      <td>0.829575</td>\n",
       "      <td>-0.168520</td>\n",
       "      <td>-0.117813</td>\n",
       "      <td>1.944562</td>\n",
       "      <td>0</td>\n",
       "    </tr>\n",
       "    <tr>\n",
       "      <th>969</th>\n",
       "      <td>-0.410265</td>\n",
       "      <td>-0.220521</td>\n",
       "      <td>1.647923</td>\n",
       "      <td>-0.168520</td>\n",
       "      <td>-0.117818</td>\n",
       "      <td>1.944562</td>\n",
       "      <td>0</td>\n",
       "    </tr>\n",
       "  </tbody>\n",
       "</table>\n",
       "</div>"
      ],
      "text/plain": [
       "      Genome_length  Ratio_1kbp_bins_covered  Ratio_GC-content_uncovered_bins  \\\n",
       "2109      -0.398347                -0.211648                        -1.529774   \n",
       "4661      -0.197923                 3.096748                        -0.394659   \n",
       "5297      -0.282902                -0.122032                        -1.558441   \n",
       "1107      -0.793125                -0.183680                         0.829575   \n",
       "969       -0.410265                -0.220521                         1.647923   \n",
       "\n",
       "      Ratio_N-content_uncovered_bins  Reads_mapped  Total_reads  Class  \n",
       "2109                       -0.167432     -0.113029    -0.619181      0  \n",
       "4661                       -0.079079      2.263796    -0.118312      1  \n",
       "5297                       -0.077109     -0.143124    -0.491011      1  \n",
       "1107                       -0.168520     -0.117813     1.944562      0  \n",
       "969                        -0.168520     -0.117818     1.944562      0  "
      ]
     },
     "execution_count": 24,
     "metadata": {},
     "output_type": "execute_result"
    }
   ],
   "source": [
    "merged_data.head()"
   ]
  },
  {
   "cell_type": "code",
   "execution_count": 25,
   "metadata": {},
   "outputs": [],
   "source": [
    "merged_data.to_excel('merged_data.xlsx')"
   ]
  },
  {
   "cell_type": "code",
   "execution_count": 26,
   "metadata": {},
   "outputs": [
    {
     "data": {
      "text/plain": [
       "(5465, 7)"
      ]
     },
     "execution_count": 26,
     "metadata": {},
     "output_type": "execute_result"
    }
   ],
   "source": [
    "# Bar plot with ggplot of SMOTE distribution \n",
    "from plotnine import *\n",
    "p = ggplot(merged_data) + geom_bar(aes(x='Class'), fill = \"yellow\", colour = \"blue\")\n",
    "p\n",
    "ggsave(plot = p, filename = 'Final_code_TFM', path = \"/Users/ferdinandosquitieri/Desktop/TFM /ML\")\n",
    "merged_data.shape"
   ]
  },
  {
   "cell_type": "code",
   "execution_count": 29,
   "metadata": {},
   "outputs": [
    {
     "name": "stdout",
     "output_type": "stream",
     "text": [
      "              precision    recall  f1-score   support\n",
      "\n",
      "           0       0.99      0.99      0.99       567\n",
      "           1       0.99      1.00      0.99       643\n",
      "\n",
      "    accuracy                           0.99      1210\n",
      "   macro avg       0.99      0.99      0.99      1210\n",
      "weighted avg       0.99      0.99      0.99      1210\n",
      "\n",
      "[[561   6]\n",
      " [  3 640]]\n",
      "0.00743801652892562\n"
     ]
    },
    {
     "data": {
      "text/plain": [
       "<matplotlib.axes._subplots.AxesSubplot at 0x1436be3d0>"
      ]
     },
     "execution_count": 29,
     "metadata": {},
     "output_type": "execute_result"
    },
    {
     "data": {
      "image/png": "[encoded data removed]",
      "text/plain": [
       "<Figure size 432x288 with 1 Axes>"
      ]
     },
     "metadata": {
      "needs_background": "light"
     },
     "output_type": "display_data"
    }
   ],
   "source": [
    "# SMOTE \n",
    "from imblearn.over_sampling import SMOTE\n",
    "from imblearn.pipeline import Pipeline\n",
    "from sklearn.metrics import mean_absolute_error\n",
    "# Defining X and y \n",
    "X = data.drop(['Class'], axis = 1 )\n",
    "y = data['Class']\n",
    "\n",
    "# Resampling with SMOTE algorithm \n",
    "X_smote, y_smote = SMOTE().fit_resample(X, y)\n",
    "\n",
    "# Defining SMOTE model \n",
    "smote_model = xgb.XGBClassifier(random_state=12).fit(X_smote, y_smote) # testing on a model \n",
    "\n",
    "# Splitting data \n",
    "xtrain, xtest, ytrain, ytest = train_test_split(X_smote, y_smote, test_size=0.2, random_state=12)\n",
    "\n",
    "# Testing the model3 with SMOTE \n",
    "smote = SMOTE(random_state=12)\n",
    "pipeline = Pipeline([('smote', smote), ('XGBClassifier', smote_model)]) # creating the pipeline we want to use  \n",
    "pipeline.fit(xtrain, ytrain) # fitting  \n",
    "pred_smote = pipeline.predict(xtest) # predicting \n",
    "print(classification_report(ytest, pred_smote)) # results\n",
    "print(confusion_matrix(ytest,pred_smote))\n",
    "print(mean_absolute_error(ytest, pred_smote))\n",
    "sns.countplot(pred_smote)"
   ]
  },
  {
   "cell_type": "code",
   "execution_count": null,
   "metadata": {},
   "outputs": [],
   "source": [
    "predsmote = pd.DataFrame(pred_smote, columns = ['Class'])\n",
    "predsmote.to_excel('predsmote.xlsx')"
   ]
  },
  {
   "cell_type": "code",
   "execution_count": 30,
   "metadata": {},
   "outputs": [
    {
     "ename": "NameError",
     "evalue": "name 'predsmote' is not defined",
     "output_type": "error",
     "traceback": [
      "\u001b[0;31m---------------------------------------------------------------------------\u001b[0m",
      "\u001b[0;31mNameError\u001b[0m                                 Traceback (most recent call last)",
      "\u001b[0;32m<ipython-input-30-dcfe403b8f46>\u001b[0m in \u001b[0;36m<module>\u001b[0;34m\u001b[0m\n\u001b[1;32m      1\u001b[0m \u001b[0;31m# Bar plot with ggplot of SMOTE distribution\u001b[0m\u001b[0;34m\u001b[0m\u001b[0;34m\u001b[0m\u001b[0;34m\u001b[0m\u001b[0m\n\u001b[1;32m      2\u001b[0m \u001b[0;32mfrom\u001b[0m \u001b[0mplotnine\u001b[0m \u001b[0;32mimport\u001b[0m \u001b[0;34m*\u001b[0m\u001b[0;34m\u001b[0m\u001b[0;34m\u001b[0m\u001b[0m\n\u001b[0;32m----> 3\u001b[0;31m \u001b[0mggplot\u001b[0m\u001b[0;34m(\u001b[0m\u001b[0mpredsmote\u001b[0m\u001b[0;34m)\u001b[0m \u001b[0;34m+\u001b[0m \u001b[0mgeom_bar\u001b[0m\u001b[0;34m(\u001b[0m\u001b[0maes\u001b[0m\u001b[0;34m(\u001b[0m\u001b[0mx\u001b[0m\u001b[0;34m=\u001b[0m\u001b[0;34m'Class'\u001b[0m\u001b[0;34m)\u001b[0m\u001b[0;34m,\u001b[0m \u001b[0mfill\u001b[0m \u001b[0;34m=\u001b[0m \u001b[0;34m\"yellow\"\u001b[0m\u001b[0;34m,\u001b[0m \u001b[0mcolour\u001b[0m \u001b[0;34m=\u001b[0m \u001b[0;34m\"blue\"\u001b[0m\u001b[0;34m)\u001b[0m\u001b[0;34m\u001b[0m\u001b[0;34m\u001b[0m\u001b[0m\n\u001b[0m",
      "\u001b[0;31mNameError\u001b[0m: name 'predsmote' is not defined"
     ]
    }
   ],
   "source": [
    "# Bar plot with ggplot of SMOTE distribution \n",
    "from plotnine import *\n",
    "ggplot(predsmote) + geom_bar(aes(x='Class'), fill = \"yellow\", colour = \"blue\")"
   ]
  },
  {
   "cell_type": "code",
   "execution_count": 31,
   "metadata": {},
   "outputs": [
    {
     "name": "stdout",
     "output_type": "stream",
     "text": [
      "              precision    recall  f1-score   support\n",
      "\n",
      "           0       0.99      0.99      0.99       605\n",
      "           1       0.80      0.83      0.82        24\n",
      "\n",
      "    accuracy                           0.99       629\n",
      "   macro avg       0.90      0.91      0.90       629\n",
      "weighted avg       0.99      0.99      0.99       629\n",
      "\n",
      "[[600   5]\n",
      " [  4  20]]\n",
      "0.014308426073131956\n"
     ]
    },
    {
     "data": {
      "text/plain": [
       "<matplotlib.axes._subplots.AxesSubplot at 0x143655040>"
      ]
     },
     "execution_count": 31,
     "metadata": {},
     "output_type": "execute_result"
    },
    {
     "data": {
      "image/png": "[encoded data removed]",
      "text/plain": [
       "<Figure size 432x288 with 1 Axes>"
      ]
     },
     "metadata": {
      "needs_background": "light"
     },
     "output_type": "display_data"
    }
   ],
   "source": [
    "# Cluster Centroids \n",
    "from imblearn.under_sampling import ClusterCentroids\n",
    "\n",
    "# Splitting data \n",
    "xtrain_cc, xtest_cc, ytrain_cc, ytest_cc = train_test_split(X, y, test_size=0.2, random_state=12)\n",
    "\n",
    "cc = ClusterCentroids(random_state=12) # defining the method \n",
    "pipeline_cc = Pipeline([('cc', cc), ('XGBClassifier', xgb.XGBClassifier(random_state=12))]) # creating the pipeline we want to use  \n",
    "pipeline.fit(xtrain_cc, ytrain_cc) # fitting  \n",
    "pred_cc = pipeline.predict(xtest_cc) # predicting \n",
    "print(classification_report(ytest_cc, pred_cc)) # results\n",
    "print(confusion_matrix(ytest_cc,pred_cc))\n",
    "print(mean_absolute_error(ytest_cc, pred_cc))\n",
    "sns.countplot(pred_cc)"
   ]
  },
  {
   "cell_type": "code",
   "execution_count": null,
   "metadata": {},
   "outputs": [],
   "source": [
    "predcentroids = pd.DataFrame(pred_cc, columns = ['Class'])\n",
    "predcentroids.to_excel('Predict_cc.xlsx')\n",
    "predcentroids[predcentroids.Class==0].shape"
   ]
  },
  {
   "cell_type": "code",
   "execution_count": null,
   "metadata": {},
   "outputs": [],
   "source": [
    "p = ggplot(predcentroids) + geom_bar(aes(x='Class'), fill = \"yellow\", colour = \"blue\")\n",
    "ggsave(plot = p, filename = 'Final_code_TFM', path = \"/Users/ferdinandosquitieri/Desktop/TFM /ML\")"
   ]
  },
  {
   "cell_type": "code",
   "execution_count": 32,
   "metadata": {},
   "outputs": [],
   "source": [
    "# Testing the models on the new data \n",
    "# Defining X and Y \n",
    "X_final = merged_data.drop('Class', axis=1) # data increased with VAE \n",
    "y_final = merged_data['Class']\n",
    "\n",
    "# Split the data \n",
    "xtrain_f, xtest_f, ytrain_f, ytest_f = train_test_split(X_final, y_final, test_size=0.2, random_state=12)"
   ]
  },
  {
   "cell_type": "code",
   "execution_count": 33,
   "metadata": {},
   "outputs": [],
   "source": [
    "# Model 1 \n",
    "from sklearn.ensemble import GradientBoostingClassifier # model 1 \n",
    "from sklearn.metrics import confusion_matrix, classification_report\n",
    "from sklearn.metrics import mean_absolute_error\n",
    "import xgboost as xgb # model 2\n",
    "from sklearn.ensemble import AdaBoostClassifier # model 3\n",
    "from sklearn.ensemble import RandomForestClassifier # model 4 \n",
    "from sklearn import svm # model 5 \n",
    "from sklearn.svm import SVR\n",
    "from sklearn.linear_model import LogisticRegression # model 6"
   ]
  },
  {
   "cell_type": "code",
   "execution_count": 34,
   "metadata": {},
   "outputs": [
    {
     "name": "stdout",
     "output_type": "stream",
     "text": [
      "              precision    recall  f1-score   support\n",
      "\n",
      "           0       0.98      0.99      0.99       614\n",
      "           1       0.99      0.98      0.98       479\n",
      "\n",
      "    accuracy                           0.98      1093\n",
      "   macro avg       0.98      0.98      0.98      1093\n",
      "weighted avg       0.98      0.98      0.98      1093\n",
      "\n",
      "[[608   6]\n",
      " [ 11 468]]\n",
      "0.01555352241537054\n",
      "Accuracy :  0.9844464775846294\n",
      "Sensitivity :  0.990228013029316\n",
      "Specificity :  0.9770354906054279\n"
     ]
    }
   ],
   "source": [
    "gbc = GradientBoostingClassifier(random_state=12)\n",
    "gbc.fit(xtrain_f,ytrain_f)\n",
    "predict_gbc = gbc.predict(xtest_f)\n",
    "\n",
    "print(classification_report(ytest_f, predict_gbc))\n",
    "print(confusion_matrix(ytest_f, predict_gbc))\n",
    "\n",
    "# error between data generated and original data \n",
    "print(mean_absolute_error(predict_gbc, ytest_f))\n",
    "\n",
    "# Calculating Sensitivity and Specificity from confusion matrix : \n",
    "cm1 = (confusion_matrix(ytest_f, predict_gbc)) \n",
    "total1 = sum(sum(cm1))\n",
    "#####from confusion matrix calculate accuracy\n",
    "accuracy1 = (cm1[0,0]+cm1[1,1])/total1\n",
    "print ('Accuracy : ', accuracy1)\n",
    "\n",
    "sensitivity1 = cm1[0,0]/(cm1[0,0]+cm1[0,1]) #  TP / (TP+FN)\n",
    "print('Sensitivity : ', sensitivity1 )\n",
    "\n",
    "specificity1 = cm1[1,1]/(cm1[1,0]+cm1[1,1])  # TN / (TN + FP)\n",
    "print('Specificity : ', specificity1)"
   ]
  },
  {
   "cell_type": "code",
   "execution_count": 35,
   "metadata": {},
   "outputs": [
    {
     "name": "stdout",
     "output_type": "stream",
     "text": [
      "              precision    recall  f1-score   support\n",
      "\n",
      "           0       0.99      0.99      0.99       614\n",
      "           1       0.99      0.99      0.99       479\n",
      "\n",
      "    accuracy                           0.99      1093\n",
      "   macro avg       0.99      0.99      0.99      1093\n",
      "weighted avg       0.99      0.99      0.99      1093\n",
      "\n",
      "[[609   5]\n",
      " [  4 475]]\n",
      "0.008234217749313814\n",
      "Accuracy :  0.9917657822506862\n",
      "Sensitivity :  0.99185667752443\n",
      "Specificity :  0.9916492693110647\n"
     ]
    }
   ],
   "source": [
    "# Model 2 \n",
    "xgb_boost = xgb.XGBClassifier(random_state=12)\n",
    "xgb_boost.fit(xtrain_f, ytrain_f)\n",
    "predict_xgb_boost = xgb_boost.predict(xtest_f)\n",
    "\n",
    "print(classification_report(ytest_f, predict_xgb_boost))\n",
    "print(confusion_matrix(ytest_f, predict_xgb_boost))\n",
    "\n",
    "# error between data generated and original data \n",
    "print(mean_absolute_error(predict_xgb_boost, ytest_f))\n",
    "\n",
    "# Calculating Sensitivity and Specificity from confusion matrix : \n",
    "cm2 = (confusion_matrix(ytest_f, predict_xgb_boost)) \n",
    "total2 = sum(sum(cm2))\n",
    "#####from confusion matrix calculate accuracy\n",
    "accuracy2 = (cm2[0,0]+cm2[1,1])/total2\n",
    "print ('Accuracy : ', accuracy2)\n",
    "\n",
    "sensitivity2 = cm2[0,0]/(cm2[0,0]+cm2[0,1]) #  TP / (TP+FN)\n",
    "print('Sensitivity : ', sensitivity2 )\n",
    "\n",
    "specificity2 = cm2[1,1]/(cm2[1,0]+cm2[1,1])  # TN / (TN + FP)\n",
    "print('Specificity : ', specificity2)"
   ]
  },
  {
   "cell_type": "code",
   "execution_count": 36,
   "metadata": {},
   "outputs": [
    {
     "name": "stdout",
     "output_type": "stream",
     "text": [
      "              precision    recall  f1-score   support\n",
      "\n",
      "           0       0.98      0.99      0.99       614\n",
      "           1       0.99      0.98      0.98       479\n",
      "\n",
      "    accuracy                           0.99      1093\n",
      "   macro avg       0.99      0.98      0.99      1093\n",
      "weighted avg       0.99      0.99      0.99      1093\n",
      "\n",
      "[[608   6]\n",
      " [ 10 469]]\n",
      "0.01463860933211345\n",
      "Accuracy :  0.9853613906678865\n",
      "Sensitivity :  0.990228013029316\n",
      "Specificity :  0.9791231732776617\n"
     ]
    }
   ],
   "source": [
    "# Model 3 \n",
    "ada = AdaBoostClassifier(random_state=12)\n",
    "ada.fit(xtrain_f,ytrain_f)\n",
    "predict_ada = ada.predict(xtest_f)\n",
    "\n",
    "print(classification_report(ytest_f, predict_ada))\n",
    "print(confusion_matrix(ytest_f, predict_ada))\n",
    "\n",
    "# error between data generated and original data \n",
    "print(mean_absolute_error(predict_ada, ytest_f))\n",
    "\n",
    "# Calculating Sensitivity and Specificity from confusion matrix : \n",
    "cm = (confusion_matrix(ytest_f, predict_ada)) \n",
    "total = sum(sum(cm))\n",
    "#####from confusion matrix calculate accuracy\n",
    "accuracy = (cm[0,0]+cm[1,1])/total\n",
    "print ('Accuracy : ', accuracy)\n",
    "\n",
    "sensitivity = cm[0,0]/(cm[0,0]+cm[0,1]) #  TP / (TP+FN)\n",
    "print('Sensitivity : ', sensitivity )\n",
    "\n",
    "specificity = cm[1,1]/(cm[1,0]+cm[1,1])  # TN / (TN + FP)\n",
    "print('Specificity : ', specificity)"
   ]
  },
  {
   "cell_type": "code",
   "execution_count": 37,
   "metadata": {},
   "outputs": [
    {
     "name": "stdout",
     "output_type": "stream",
     "text": [
      "              precision    recall  f1-score   support\n",
      "\n",
      "           0       0.99      1.00      0.99       614\n",
      "           1       0.99      0.99      0.99       479\n",
      "\n",
      "    accuracy                           0.99      1093\n",
      "   macro avg       0.99      0.99      0.99      1093\n",
      "weighted avg       0.99      0.99      0.99      1093\n",
      "\n",
      "[[611   3]\n",
      " [  4 475]]\n",
      "Accuracy :  0.9935956084172004\n",
      "Sensitivity :  0.995114006514658\n",
      "Specificity :  0.9916492693110647\n"
     ]
    }
   ],
   "source": [
    "# Model 4 \n",
    "rfc = RandomForestClassifier(n_estimators = 200, random_state = 12)\n",
    "rfc.fit(xtrain_f, ytrain_f)\n",
    "pred_rfc = rfc.predict(xtest_f)\n",
    "\n",
    "print(classification_report(ytest_f, pred_rfc))\n",
    "print(confusion_matrix(ytest_f, pred_rfc))\n",
    "\n",
    "# Calculating Sensitivity and Specificity from confusion matrix : \n",
    "cm1 = (confusion_matrix(ytest_f, pred_rfc)) \n",
    "total1 = sum(sum(cm1))\n",
    "#####from confusion matrix calculate accuracy\n",
    "accuracy1 = (cm1[0,0]+cm1[1,1])/total1\n",
    "print ('Accuracy : ', accuracy1)\n",
    "\n",
    "sensitivity1 = cm1[0,0]/(cm1[0,0]+cm1[0,1]) #  TP / (TP+FN)\n",
    "print('Sensitivity : ', sensitivity1 )\n",
    "\n",
    "specificity1 = cm1[1,1]/(cm1[1,0]+cm1[1,1])  # TN / (TN + FP)\n",
    "print('Specificity : ', specificity1)"
   ]
  },
  {
   "cell_type": "code",
   "execution_count": 38,
   "metadata": {},
   "outputs": [
    {
     "name": "stdout",
     "output_type": "stream",
     "text": [
      "              precision    recall  f1-score   support\n",
      "\n",
      "           0       0.88      0.92      0.90       614\n",
      "           1       0.90      0.84      0.87       479\n",
      "\n",
      "    accuracy                           0.89      1093\n",
      "   macro avg       0.89      0.88      0.88      1093\n",
      "weighted avg       0.89      0.89      0.89      1093\n",
      "\n",
      "[[567  47]\n",
      " [ 76 403]]\n",
      "Accuracy :  0.8874656907593779\n",
      "Sensitivity :  0.9234527687296417\n",
      "Specificity :  0.8413361169102297\n"
     ]
    }
   ],
   "source": [
    "# Model 5 \n",
    "SVM = svm.SVC(random_state = 12)\n",
    "SVM.fit(xtrain_f, ytrain_f)\n",
    "pred_SVM = SVM.predict(xtest_f)\n",
    "\n",
    "print(classification_report(ytest_f, pred_SVM)) \n",
    "print(confusion_matrix(ytest_f, pred_SVM)) \n",
    "\n",
    "# Calculating Sensitivity and Specificity from confusion matrix : \n",
    "cm2 = (confusion_matrix(ytest_f, pred_SVM)) \n",
    "total2=sum(sum(cm2))\n",
    "#####from confusion matrix calculate accuracy\n",
    "accuracy2=(cm2[0,0]+cm2[1,1])/total2\n",
    "print ('Accuracy : ', accuracy2)\n",
    "\n",
    "sensitivity2 = cm2[0,0]/(cm2[0,0]+cm2[0,1]) #  TP / (TP+FN)\n",
    "print('Sensitivity : ', sensitivity2 )\n",
    "\n",
    "specificity2 = cm2[1,1]/(cm2[1,0]+cm2[1,1]) # TN / (TN + FP)\n",
    "print('Specificity : ', specificity2)"
   ]
  },
  {
   "cell_type": "code",
   "execution_count": 39,
   "metadata": {},
   "outputs": [
    {
     "name": "stdout",
     "output_type": "stream",
     "text": [
      "              precision    recall  f1-score   support\n",
      "\n",
      "           0       0.82      0.91      0.86       614\n",
      "           1       0.87      0.74      0.80       479\n",
      "\n",
      "    accuracy                           0.84      1093\n",
      "   macro avg       0.84      0.83      0.83      1093\n",
      "weighted avg       0.84      0.84      0.84      1093\n",
      "\n",
      "[[561  53]\n",
      " [124 355]]\n",
      "Accuracy :  0.8380603842634949\n",
      "Sensitivity :  0.9136807817589576\n",
      "Specificity :  0.7411273486430062\n"
     ]
    }
   ],
   "source": [
    "# Model 6 \n",
    "logreg = LogisticRegression(solver='lbfgs', random_state = 12)\n",
    "logreg.fit(xtrain_f, ytrain_f)\n",
    "pred_logreg = logreg.predict(xtest_f)\n",
    "\n",
    "print(classification_report(ytest_f, pred_logreg)) \n",
    "print(confusion_matrix(ytest_f, pred_logreg)) \n",
    "\n",
    "# Calculating Sensitivity and Specificity from confusion matrix : \n",
    "cm3 = (confusion_matrix(ytest_f, pred_logreg)) \n",
    "total3=sum(sum(cm3))\n",
    "#####from confusion matrix calculate accuracy\n",
    "accuracy3=(cm3[0,0]+cm3[1,1])/total3\n",
    "print ('Accuracy : ', accuracy3)\n",
    "\n",
    "sensitivity3 = cm3[0,0]/(cm3[0,0]+cm3[0,1]) #  TP / (TP+FN)\n",
    "print('Sensitivity : ', sensitivity3 )\n",
    "\n",
    "specificity3 = cm3[1,1]/(cm3[1,0]+cm3[1,1]) # TN / (TN + FP)\n",
    "print('Specificity : ', specificity3)"
   ]
  },
  {
   "cell_type": "code",
   "execution_count": 40,
   "metadata": {},
   "outputs": [
    {
     "name": "stdout",
     "output_type": "stream",
     "text": [
      "Parameters currently in use:\n",
      "\n",
      "{'ccp_alpha': 0.0, 'criterion': 'friedman_mse', 'init': None, 'learning_rate': 0.1, 'loss': 'deviance', 'max_depth': 3, 'max_features': None, 'max_leaf_nodes': None, 'min_impurity_decrease': 0.0, 'min_impurity_split': None, 'min_samples_leaf': 1, 'min_samples_split': 2, 'min_weight_fraction_leaf': 0.0, 'n_estimators': 100, 'n_iter_no_change': None, 'presort': 'deprecated', 'random_state': 12, 'subsample': 1.0, 'tol': 0.0001, 'validation_fraction': 0.1, 'verbose': 0, 'warm_start': False}\n"
     ]
    }
   ],
   "source": [
    "# Hyperparameters tuning - Model 1 \n",
    "from sklearn import model_selection\n",
    "from sklearn.model_selection import GridSearchCV # Grid Search \n",
    "from sklearn.model_selection import cross_val_predict\n",
    "from sklearn.metrics import f1_score\n",
    "\n",
    "print('Parameters currently in use:\\n')\n",
    "print(gbc.get_params())"
   ]
  },
  {
   "cell_type": "code",
   "execution_count": 41,
   "metadata": {},
   "outputs": [],
   "source": [
    "tuned_params = [{'ccp_alpha' : [0.0,0.5,0.7], 'learning_rate' : [0.0001, 0.001, 0.01, 0.1, 0.2, 0.3], 'n_estimators':[100,200,400,600,800] }]"
   ]
  },
  {
   "cell_type": "code",
   "execution_count": 42,
   "metadata": {},
   "outputs": [
    {
     "data": {
      "text/html": [
       "<div>\n",
       "<style scoped>\n",
       "    .dataframe tbody tr th:only-of-type {\n",
       "        vertical-align: middle;\n",
       "    }\n",
       "\n",
       "    .dataframe tbody tr th {\n",
       "        vertical-align: top;\n",
       "    }\n",
       "\n",
       "    .dataframe thead th {\n",
       "        text-align: right;\n",
       "    }\n",
       "</style>\n",
       "<table border=\"1\" class=\"dataframe\">\n",
       "  <thead>\n",
       "    <tr style=\"text-align: right;\">\n",
       "      <th></th>\n",
       "      <th>mean_fit_time</th>\n",
       "      <th>std_fit_time</th>\n",
       "      <th>mean_score_time</th>\n",
       "      <th>std_score_time</th>\n",
       "      <th>param_ccp_alpha</th>\n",
       "      <th>param_learning_rate</th>\n",
       "      <th>param_n_estimators</th>\n",
       "      <th>params</th>\n",
       "      <th>split0_test_score</th>\n",
       "      <th>split1_test_score</th>\n",
       "      <th>split2_test_score</th>\n",
       "      <th>split3_test_score</th>\n",
       "      <th>split4_test_score</th>\n",
       "      <th>mean_test_score</th>\n",
       "      <th>std_test_score</th>\n",
       "      <th>rank_test_score</th>\n",
       "    </tr>\n",
       "  </thead>\n",
       "  <tbody>\n",
       "    <tr>\n",
       "      <th>0</th>\n",
       "      <td>0.720062</td>\n",
       "      <td>0.049945</td>\n",
       "      <td>0.007997</td>\n",
       "      <td>0.001962</td>\n",
       "      <td>0</td>\n",
       "      <td>0.0001</td>\n",
       "      <td>100</td>\n",
       "      <td>{'ccp_alpha': 0.0, 'learning_rate': 0.0001, 'n...</td>\n",
       "      <td>0.336986</td>\n",
       "      <td>0.336763</td>\n",
       "      <td>0.336763</td>\n",
       "      <td>0.336763</td>\n",
       "      <td>0.336763</td>\n",
       "      <td>0.336807</td>\n",
       "      <td>0.000089</td>\n",
       "      <td>30</td>\n",
       "    </tr>\n",
       "    <tr>\n",
       "      <th>1</th>\n",
       "      <td>1.457903</td>\n",
       "      <td>0.040496</td>\n",
       "      <td>0.008410</td>\n",
       "      <td>0.001611</td>\n",
       "      <td>0</td>\n",
       "      <td>0.0001</td>\n",
       "      <td>200</td>\n",
       "      <td>{'ccp_alpha': 0.0, 'learning_rate': 0.0001, 'n...</td>\n",
       "      <td>0.743494</td>\n",
       "      <td>0.698620</td>\n",
       "      <td>0.705219</td>\n",
       "      <td>0.681174</td>\n",
       "      <td>0.712117</td>\n",
       "      <td>0.708125</td>\n",
       "      <td>0.020455</td>\n",
       "      <td>29</td>\n",
       "    </tr>\n",
       "    <tr>\n",
       "      <th>2</th>\n",
       "      <td>3.211356</td>\n",
       "      <td>0.324998</td>\n",
       "      <td>0.011052</td>\n",
       "      <td>0.001091</td>\n",
       "      <td>0</td>\n",
       "      <td>0.0001</td>\n",
       "      <td>400</td>\n",
       "      <td>{'ccp_alpha': 0.0, 'learning_rate': 0.0001, 'n...</td>\n",
       "      <td>0.928565</td>\n",
       "      <td>0.901622</td>\n",
       "      <td>0.910855</td>\n",
       "      <td>0.881075</td>\n",
       "      <td>0.889028</td>\n",
       "      <td>0.902229</td>\n",
       "      <td>0.016674</td>\n",
       "      <td>28</td>\n",
       "    </tr>\n",
       "    <tr>\n",
       "      <th>3</th>\n",
       "      <td>4.558359</td>\n",
       "      <td>0.356853</td>\n",
       "      <td>0.013491</td>\n",
       "      <td>0.001891</td>\n",
       "      <td>0</td>\n",
       "      <td>0.0001</td>\n",
       "      <td>600</td>\n",
       "      <td>{'ccp_alpha': 0.0, 'learning_rate': 0.0001, 'n...</td>\n",
       "      <td>0.928565</td>\n",
       "      <td>0.910710</td>\n",
       "      <td>0.915867</td>\n",
       "      <td>0.893463</td>\n",
       "      <td>0.898106</td>\n",
       "      <td>0.909342</td>\n",
       "      <td>0.012589</td>\n",
       "      <td>26</td>\n",
       "    </tr>\n",
       "    <tr>\n",
       "      <th>4</th>\n",
       "      <td>6.018112</td>\n",
       "      <td>0.269973</td>\n",
       "      <td>0.015880</td>\n",
       "      <td>0.002042</td>\n",
       "      <td>0</td>\n",
       "      <td>0.0001</td>\n",
       "      <td>800</td>\n",
       "      <td>{'ccp_alpha': 0.0, 'learning_rate': 0.0001, 'n...</td>\n",
       "      <td>0.928565</td>\n",
       "      <td>0.910710</td>\n",
       "      <td>0.915867</td>\n",
       "      <td>0.893463</td>\n",
       "      <td>0.898106</td>\n",
       "      <td>0.909342</td>\n",
       "      <td>0.012589</td>\n",
       "      <td>26</td>\n",
       "    </tr>\n",
       "    <tr>\n",
       "      <th>...</th>\n",
       "      <td>...</td>\n",
       "      <td>...</td>\n",
       "      <td>...</td>\n",
       "      <td>...</td>\n",
       "      <td>...</td>\n",
       "      <td>...</td>\n",
       "      <td>...</td>\n",
       "      <td>...</td>\n",
       "      <td>...</td>\n",
       "      <td>...</td>\n",
       "      <td>...</td>\n",
       "      <td>...</td>\n",
       "      <td>...</td>\n",
       "      <td>...</td>\n",
       "      <td>...</td>\n",
       "      <td>...</td>\n",
       "    </tr>\n",
       "    <tr>\n",
       "      <th>85</th>\n",
       "      <td>0.688310</td>\n",
       "      <td>0.020503</td>\n",
       "      <td>0.005589</td>\n",
       "      <td>0.000582</td>\n",
       "      <td>0.7</td>\n",
       "      <td>0.3</td>\n",
       "      <td>100</td>\n",
       "      <td>{'ccp_alpha': 0.7, 'learning_rate': 0.3, 'n_es...</td>\n",
       "      <td>0.336986</td>\n",
       "      <td>0.336763</td>\n",
       "      <td>0.336763</td>\n",
       "      <td>0.336763</td>\n",
       "      <td>0.336763</td>\n",
       "      <td>0.336807</td>\n",
       "      <td>0.000089</td>\n",
       "      <td>30</td>\n",
       "    </tr>\n",
       "    <tr>\n",
       "      <th>86</th>\n",
       "      <td>1.314400</td>\n",
       "      <td>0.087770</td>\n",
       "      <td>0.005149</td>\n",
       "      <td>0.000485</td>\n",
       "      <td>0.7</td>\n",
       "      <td>0.3</td>\n",
       "      <td>200</td>\n",
       "      <td>{'ccp_alpha': 0.7, 'learning_rate': 0.3, 'n_es...</td>\n",
       "      <td>0.336986</td>\n",
       "      <td>0.336763</td>\n",
       "      <td>0.336763</td>\n",
       "      <td>0.336763</td>\n",
       "      <td>0.336763</td>\n",
       "      <td>0.336807</td>\n",
       "      <td>0.000089</td>\n",
       "      <td>30</td>\n",
       "    </tr>\n",
       "    <tr>\n",
       "      <th>87</th>\n",
       "      <td>3.410891</td>\n",
       "      <td>0.524735</td>\n",
       "      <td>0.010030</td>\n",
       "      <td>0.007068</td>\n",
       "      <td>0.7</td>\n",
       "      <td>0.3</td>\n",
       "      <td>400</td>\n",
       "      <td>{'ccp_alpha': 0.7, 'learning_rate': 0.3, 'n_es...</td>\n",
       "      <td>0.336986</td>\n",
       "      <td>0.336763</td>\n",
       "      <td>0.336763</td>\n",
       "      <td>0.336763</td>\n",
       "      <td>0.336763</td>\n",
       "      <td>0.336807</td>\n",
       "      <td>0.000089</td>\n",
       "      <td>30</td>\n",
       "    </tr>\n",
       "    <tr>\n",
       "      <th>88</th>\n",
       "      <td>6.236772</td>\n",
       "      <td>1.037393</td>\n",
       "      <td>0.007473</td>\n",
       "      <td>0.001439</td>\n",
       "      <td>0.7</td>\n",
       "      <td>0.3</td>\n",
       "      <td>600</td>\n",
       "      <td>{'ccp_alpha': 0.7, 'learning_rate': 0.3, 'n_es...</td>\n",
       "      <td>0.336986</td>\n",
       "      <td>0.336763</td>\n",
       "      <td>0.336763</td>\n",
       "      <td>0.336763</td>\n",
       "      <td>0.336763</td>\n",
       "      <td>0.336807</td>\n",
       "      <td>0.000089</td>\n",
       "      <td>30</td>\n",
       "    </tr>\n",
       "    <tr>\n",
       "      <th>89</th>\n",
       "      <td>6.527754</td>\n",
       "      <td>0.957607</td>\n",
       "      <td>0.006748</td>\n",
       "      <td>0.002490</td>\n",
       "      <td>0.7</td>\n",
       "      <td>0.3</td>\n",
       "      <td>800</td>\n",
       "      <td>{'ccp_alpha': 0.7, 'learning_rate': 0.3, 'n_es...</td>\n",
       "      <td>0.336986</td>\n",
       "      <td>0.336763</td>\n",
       "      <td>0.336763</td>\n",
       "      <td>0.336763</td>\n",
       "      <td>0.336763</td>\n",
       "      <td>0.336807</td>\n",
       "      <td>0.000089</td>\n",
       "      <td>30</td>\n",
       "    </tr>\n",
       "  </tbody>\n",
       "</table>\n",
       "<p>90 rows × 16 columns</p>\n",
       "</div>"
      ],
      "text/plain": [
       "    mean_fit_time  std_fit_time  mean_score_time  std_score_time  \\\n",
       "0        0.720062      0.049945         0.007997        0.001962   \n",
       "1        1.457903      0.040496         0.008410        0.001611   \n",
       "2        3.211356      0.324998         0.011052        0.001091   \n",
       "3        4.558359      0.356853         0.013491        0.001891   \n",
       "4        6.018112      0.269973         0.015880        0.002042   \n",
       "..            ...           ...              ...             ...   \n",
       "85       0.688310      0.020503         0.005589        0.000582   \n",
       "86       1.314400      0.087770         0.005149        0.000485   \n",
       "87       3.410891      0.524735         0.010030        0.007068   \n",
       "88       6.236772      1.037393         0.007473        0.001439   \n",
       "89       6.527754      0.957607         0.006748        0.002490   \n",
       "\n",
       "   param_ccp_alpha param_learning_rate param_n_estimators  \\\n",
       "0                0              0.0001                100   \n",
       "1                0              0.0001                200   \n",
       "2                0              0.0001                400   \n",
       "3                0              0.0001                600   \n",
       "4                0              0.0001                800   \n",
       "..             ...                 ...                ...   \n",
       "85             0.7                 0.3                100   \n",
       "86             0.7                 0.3                200   \n",
       "87             0.7                 0.3                400   \n",
       "88             0.7                 0.3                600   \n",
       "89             0.7                 0.3                800   \n",
       "\n",
       "                                               params  split0_test_score  \\\n",
       "0   {'ccp_alpha': 0.0, 'learning_rate': 0.0001, 'n...           0.336986   \n",
       "1   {'ccp_alpha': 0.0, 'learning_rate': 0.0001, 'n...           0.743494   \n",
       "2   {'ccp_alpha': 0.0, 'learning_rate': 0.0001, 'n...           0.928565   \n",
       "3   {'ccp_alpha': 0.0, 'learning_rate': 0.0001, 'n...           0.928565   \n",
       "4   {'ccp_alpha': 0.0, 'learning_rate': 0.0001, 'n...           0.928565   \n",
       "..                                                ...                ...   \n",
       "85  {'ccp_alpha': 0.7, 'learning_rate': 0.3, 'n_es...           0.336986   \n",
       "86  {'ccp_alpha': 0.7, 'learning_rate': 0.3, 'n_es...           0.336986   \n",
       "87  {'ccp_alpha': 0.7, 'learning_rate': 0.3, 'n_es...           0.336986   \n",
       "88  {'ccp_alpha': 0.7, 'learning_rate': 0.3, 'n_es...           0.336986   \n",
       "89  {'ccp_alpha': 0.7, 'learning_rate': 0.3, 'n_es...           0.336986   \n",
       "\n",
       "    split1_test_score  split2_test_score  split3_test_score  \\\n",
       "0            0.336763           0.336763           0.336763   \n",
       "1            0.698620           0.705219           0.681174   \n",
       "2            0.901622           0.910855           0.881075   \n",
       "3            0.910710           0.915867           0.893463   \n",
       "4            0.910710           0.915867           0.893463   \n",
       "..                ...                ...                ...   \n",
       "85           0.336763           0.336763           0.336763   \n",
       "86           0.336763           0.336763           0.336763   \n",
       "87           0.336763           0.336763           0.336763   \n",
       "88           0.336763           0.336763           0.336763   \n",
       "89           0.336763           0.336763           0.336763   \n",
       "\n",
       "    split4_test_score  mean_test_score  std_test_score  rank_test_score  \n",
       "0            0.336763         0.336807        0.000089               30  \n",
       "1            0.712117         0.708125        0.020455               29  \n",
       "2            0.889028         0.902229        0.016674               28  \n",
       "3            0.898106         0.909342        0.012589               26  \n",
       "4            0.898106         0.909342        0.012589               26  \n",
       "..                ...              ...             ...              ...  \n",
       "85           0.336763         0.336807        0.000089               30  \n",
       "86           0.336763         0.336807        0.000089               30  \n",
       "87           0.336763         0.336807        0.000089               30  \n",
       "88           0.336763         0.336807        0.000089               30  \n",
       "89           0.336763         0.336807        0.000089               30  \n",
       "\n",
       "[90 rows x 16 columns]"
      ]
     },
     "execution_count": 42,
     "metadata": {},
     "output_type": "execute_result"
    }
   ],
   "source": [
    "np.random.seed(12)\n",
    "tuned_gbc = GridSearchCV(GradientBoostingClassifier(), tuned_params, cv = 5, scoring = 'f1_macro')\n",
    "tuned_gbc.fit(xtrain, ytrain)\n",
    "tuned_gbc.predict(xtest)\n",
    "tuned_gbc.cv_results_\n",
    "\n",
    "gbc_table = pd.DataFrame(tuned_gbc.cv_results_)\n",
    "gbc_table"
   ]
  },
  {
   "cell_type": "code",
   "execution_count": null,
   "metadata": {},
   "outputs": [],
   "source": [
    "tuned_gbc.best_score_ # 0.9890390787112274"
   ]
  },
  {
   "cell_type": "code",
   "execution_count": null,
   "metadata": {},
   "outputs": [],
   "source": [
    "# Model 2 \n",
    "print('Parameters currently in use:\\n')\n",
    "print(xgb_boost.get_params())"
   ]
  },
  {
   "cell_type": "code",
   "execution_count": null,
   "metadata": {},
   "outputs": [],
   "source": [
    "tuned_params_xgb = [{'base_score' : [0.0,0.5,0.7], 'learning_rate' : [0.0001, 0.001, 0.01, 0.1, 0.2, 0.3], 'n_estimators':[100,200,400,600,800] }]"
   ]
  },
  {
   "cell_type": "code",
   "execution_count": null,
   "metadata": {},
   "outputs": [],
   "source": [
    "np.random.seed(12)\n",
    "tuned_xgb = GridSearchCV(xgb.XGBClassifier(random_state=12), tuned_params, cv = 5, scoring = 'f1_macro')\n",
    "tuned_xgb.fit(xtrain, ytrain)\n",
    "tuned_xgb.cv_results_\n",
    "\n",
    "xgb_table = pd.DataFrame(tuned_xgb.cv_results_)"
   ]
  },
  {
   "cell_type": "code",
   "execution_count": null,
   "metadata": {},
   "outputs": [],
   "source": [
    "xgb_table"
   ]
  },
  {
   "cell_type": "code",
   "execution_count": null,
   "metadata": {},
   "outputs": [],
   "source": [
    "tuned_xgb.best_params_"
   ]
  },
  {
   "cell_type": "code",
   "execution_count": null,
   "metadata": {},
   "outputs": [],
   "source": [
    "# Model 3 \n",
    "print('Parameters currently in use:\\n')\n",
    "print(ada.get_params())"
   ]
  },
  {
   "cell_type": "code",
   "execution_count": null,
   "metadata": {},
   "outputs": [],
   "source": [
    "tuned_ada_params = [{'algorithm' : ['SAMME', 'SAMME.R'], 'learning_rate' : [0.0001, 0.001, 0.01, 0.1, 0.2, 0.3], 'n_estimators':[100,200,400,600,800] }]"
   ]
  },
  {
   "cell_type": "code",
   "execution_count": null,
   "metadata": {},
   "outputs": [],
   "source": [
    "np.random.seed(12)\n",
    "tuned_ada= GridSearchCV(AdaBoostClassifier(random_state=12), tuned_ada_params, cv = 5, scoring = 'f1_macro')\n",
    "tuned_ada.fit(xtrain, ytrain)\n",
    "tuned_ada.cv_results_\n",
    "\n",
    "ada_table = pd.DataFrame(tuned_ada.cv_results_)\n",
    "ada_table"
   ]
  },
  {
   "cell_type": "code",
   "execution_count": null,
   "metadata": {},
   "outputs": [],
   "source": [
    "tuned_ada.best_params_"
   ]
  },
  {
   "cell_type": "code",
   "execution_count": null,
   "metadata": {},
   "outputs": [],
   "source": [
    "# Model 4 \n",
    "print('Parameters currently in use:\\n')\n",
    "print(rfc.get_params())"
   ]
  },
  {
   "cell_type": "code",
   "execution_count": null,
   "metadata": {},
   "outputs": [],
   "source": [
    "tuned_params_rfc = [{'n_estimators' : [100,500,800], 'oob_score' : [False, True], 'ccp_alpha' : [0.0, 0.5, 0.7], 'criterion' : ['gini', 'entropy']}]"
   ]
  },
  {
   "cell_type": "code",
   "execution_count": null,
   "metadata": {},
   "outputs": [],
   "source": [
    "tuned_rfc = GridSearchCV(RandomForestClassifier(random_state = 12), tuned_params_rfc, cv = 5, scoring = 'f1_macro')\n",
    "tuned_rfc.fit(xtrain, ytrain)\n",
    "tuned_rfc.cv_results_\n",
    "\n",
    "rfc_table = pd.DataFrame(tuned_rfc.cv_results_)\n",
    "rfc_table"
   ]
  },
  {
   "cell_type": "code",
   "execution_count": null,
   "metadata": {},
   "outputs": [],
   "source": [
    "tuned_rfc.best_params_"
   ]
  },
  {
   "cell_type": "code",
   "execution_count": null,
   "metadata": {},
   "outputs": [],
   "source": [
    "# Model 5 \n",
    "print('Parameters currently in use:\\n')\n",
    "print(SVM.get_params())"
   ]
  },
  {
   "cell_type": "code",
   "execution_count": null,
   "metadata": {},
   "outputs": [],
   "source": [
    "tuned_svm = [{'kernel' : ['rbf'], 'gamma' : [1e-3, 1e-4], \n",
    "                    'C' : [1,10,100,1000]},\n",
    "                   {'kernel' : ['linear'], 'C' : [1,10,100,1000]}]\n",
    "\n",
    "np.random.seed(123)\n",
    "tuned_svm = GridSearchCV(svm.SVC(), tuned_svm, cv = 5, scoring = 'f1_macro')\n",
    "tuned_svm.fit(xtrain,ytrain) #testing \n",
    "tuned_svm.best_params_\n",
    "tuned_svm.cv_results_\n",
    "\n",
    "svm_table = pd.DataFrame(tuned_svm.cv_results_)\n",
    "svm_table"
   ]
  },
  {
   "cell_type": "code",
   "execution_count": null,
   "metadata": {},
   "outputs": [],
   "source": [
    "tuned_svm.best_params_"
   ]
  },
  {
   "cell_type": "code",
   "execution_count": null,
   "metadata": {},
   "outputs": [],
   "source": [
    "# Model 6 \n",
    "print('Parameters currently in use:\\n')\n",
    "print(logreg.get_params())"
   ]
  },
  {
   "cell_type": "code",
   "execution_count": null,
   "metadata": {},
   "outputs": [],
   "source": [
    "tuned_logreg = [{'penalty' : ['l5', 'l1', 'l2', 'l20'],  \n",
    "                    'C' : [1,10,100,1000],\n",
    "               'solver' : ['newton-cg', 'lbfgs', 'liblinear', 'sag', 'saga']}]\n",
    "\n",
    "np.random.seed(12)\n",
    "\n",
    "tuned_logreg = GridSearchCV(LogisticRegression(), tuned_logreg, cv = 5, scoring = 'f1_macro')\n",
    "tuned_logreg.fit(xtrain,ytrain) #testing \n",
    "tuned_logreg.cv_results_\n",
    "\n",
    "logreg_table = pd.DataFrame(tuned_logreg.cv_results_)\n",
    "logreg_table"
   ]
  },
  {
   "cell_type": "code",
   "execution_count": null,
   "metadata": {},
   "outputs": [],
   "source": [
    "model_params = {\n",
    "    'SVM' : {\n",
    "        'Model': svm.SVC(random_state = 1),\n",
    "        'Params': {\n",
    "            'C' : [1,10,100,1000],\n",
    "            'gamma' : [1e-3, 1e-4], \n",
    "        }\n",
    "    },\n",
    "    'Random_forest' : {\n",
    "        'Model': RandomForestClassifier(random_state = 1),\n",
    "        'Params': {\n",
    "            'n_estimators' : [100,500,800],\n",
    "            'oob_score' : [False, True]\n",
    "        }\n",
    "    },\n",
    "    'Logistic_regression' : {\n",
    "        'Model': LogisticRegression(random_state = 1),\n",
    "        'Params': {\n",
    "        'C' : [1,10,100,1000],\n",
    "            'penalty' : ['l1', 'l2'],\n",
    "            'solver' : ['newton-cg', 'lbfgs', 'liblinear', 'sag', 'saga']\n",
    "    }\n",
    "},\n",
    "    'Gradient_Boosting' : {\n",
    "        'Model' : GradientBoostingClassifier(random_state = 1),\n",
    "        'Params' : {\n",
    "            'ccp_alpha' : [0.0,0.5,0.7], \n",
    "            'learning_rate' : [0.0001, 0.001, 0.01, 0.1, 0.2, 0.3], \n",
    "            'n_estimators':[100,200,400,600,800]\n",
    "        }\n",
    "    },\n",
    "    \n",
    "    'XGB_Boosting' : {\n",
    "        'Model' : xgb.XGBClassifier(random_state = 1),\n",
    "        'Params' : {\n",
    "            'base_score' : [0.0,0.5,0.7], \n",
    "            'learning_rate' : [0.0001, 0.001, 0.01, 0.1, 0.2, 0.3], \n",
    "            'n_estimators':[100,200,400,600,800]  \n",
    "        }\n",
    "    }, \n",
    "    \n",
    "    'Ada_Boosting' : {\n",
    "        'Model' : AdaBoostClassifier(random_state = 1),\n",
    "        'Params' : {\n",
    "            'algorithm' : ['SAMME', 'SAMME.R'], \n",
    "            'learning_rate' : [0.0001, 0.001, 0.01, 0.1, 0.2, 0.3], \n",
    "            'n_estimators':[100,200,400,600,800]  \n",
    "        }\n",
    "    } \n",
    "} "
   ]
  },
  {
   "cell_type": "code",
   "execution_count": null,
   "metadata": {},
   "outputs": [],
   "source": [
    "scores = []\n",
    "np.random.seed(12)\n",
    "for model_name, mp in model_params.items():\n",
    "    final_model = GridSearchCV(mp['Model'], mp['Params'], cv=5, return_train_score=False, scoring='f1_micro')\n",
    "    final_model.fit(X_final,y_final)\n",
    "    scores.append({\n",
    "        'Model': model_name,\n",
    "        'Best score' : final_model.best_score_,\n",
    "        'Best params': final_model.best_params_\n",
    "    })"
   ]
  },
  {
   "cell_type": "code",
   "execution_count": null,
   "metadata": {},
   "outputs": [],
   "source": [
    "final_params_table = pd.DataFrame(scores,columns=['Model', 'Best score', 'Best params']).sort_values(by=['Best score'], ascending=False)"
   ]
  },
  {
   "cell_type": "code",
   "execution_count": null,
   "metadata": {},
   "outputs": [],
   "source": [
    "final_params_table"
   ]
  },
  {
   "cell_type": "code",
   "execution_count": null,
   "metadata": {},
   "outputs": [],
   "source": [
    "final_params_table.iloc[1,2] # to check the best parameters of the XGB_Boosting"
   ]
  },
  {
   "cell_type": "code",
   "execution_count": null,
   "metadata": {},
   "outputs": [],
   "source": [
    "final_model = xgb.XGBClassifier(base_score = 0.7, learning_rate = 0.3, n_estimators = 800, random_state=12)\n",
    "final_model.fit(xtrain_f, ytrain_f)\n",
    "final_predict = final_model.predict(xtest_f)\n",
    "\n",
    "print(classification_report(ytest_f, final_predict))\n",
    "print(confusion_matrix(ytest_f, final_predict))\n",
    "\n",
    "# Calculating Sensitivity and Specificity from confusion matrix : \n",
    "cm2 = (confusion_matrix(ytest_f, final_predict)) \n",
    "total2 = sum(sum(cm2))\n",
    "#####from confusion matrix calculate accuracy\n",
    "accuracy2 = (cm2[0,0]+cm2[1,1])/total2\n",
    "print ('Accuracy : ', accuracy2)\n",
    "\n",
    "sensitivity2 = cm2[0,0]/(cm2[0,0]+cm2[0,1]) #  TP / (TP+FN)\n",
    "print('Sensitivity : ', sensitivity2 )\n",
    "\n",
    "specificity2 = cm2[1,1]/(cm2[1,0]+cm2[1,1])  # TN / (TN + FP)\n",
    "print('Specificity : ', specificity2)"
   ]
  },
  {
   "cell_type": "code",
   "execution_count": 43,
   "metadata": {},
   "outputs": [
    {
     "ename": "NameError",
     "evalue": "name 'final_model' is not defined",
     "output_type": "error",
     "traceback": [
      "\u001b[0;31m---------------------------------------------------------------------------\u001b[0m",
      "\u001b[0;31mNameError\u001b[0m                                 Traceback (most recent call last)",
      "\u001b[0;32m<ipython-input-43-c84f1101b3b6>\u001b[0m in \u001b[0;36m<module>\u001b[0;34m\u001b[0m\n\u001b[1;32m      2\u001b[0m \u001b[0mtitles_options\u001b[0m \u001b[0;34m=\u001b[0m \u001b[0;34m[\u001b[0m\u001b[0;34m(\u001b[0m\u001b[0;34m'Final Model'\u001b[0m\u001b[0;34m)\u001b[0m\u001b[0;34m]\u001b[0m\u001b[0;34m\u001b[0m\u001b[0;34m\u001b[0m\u001b[0m\n\u001b[1;32m      3\u001b[0m \u001b[0;32mfor\u001b[0m \u001b[0mtitle\u001b[0m \u001b[0;32min\u001b[0m \u001b[0mtitles_options\u001b[0m\u001b[0;34m:\u001b[0m\u001b[0;34m\u001b[0m\u001b[0;34m\u001b[0m\u001b[0m\n\u001b[0;32m----> 4\u001b[0;31m     \u001b[0mdisp\u001b[0m \u001b[0;34m=\u001b[0m \u001b[0mplot_confusion_matrix\u001b[0m\u001b[0;34m(\u001b[0m\u001b[0mfinal_model\u001b[0m\u001b[0;34m,\u001b[0m \u001b[0mxtest_f\u001b[0m\u001b[0;34m,\u001b[0m \u001b[0mytest_f\u001b[0m\u001b[0;34m)\u001b[0m\u001b[0;34m\u001b[0m\u001b[0;34m\u001b[0m\u001b[0m\n\u001b[0m\u001b[1;32m      5\u001b[0m     \u001b[0mdisp\u001b[0m\u001b[0;34m.\u001b[0m\u001b[0max_\u001b[0m\u001b[0;34m.\u001b[0m\u001b[0mset_title\u001b[0m\u001b[0;34m(\u001b[0m\u001b[0mtitle\u001b[0m\u001b[0;34m)\u001b[0m\u001b[0;34m\u001b[0m\u001b[0;34m\u001b[0m\u001b[0m\n\u001b[1;32m      6\u001b[0m \u001b[0;34m\u001b[0m\u001b[0m\n",
      "\u001b[0;31mNameError\u001b[0m: name 'final_model' is not defined"
     ]
    }
   ],
   "source": [
    "from sklearn.metrics import plot_confusion_matrix\n",
    "titles_options = [('Final Model')]\n",
    "for title in titles_options:\n",
    "    disp = plot_confusion_matrix(final_model, xtest_f, ytest_f)\n",
    "    disp.ax_.set_title(title)\n",
    "\n",
    "    print(title)\n",
    "    print(disp.confusion_matrix)\n",
    "\n",
    "plt.show()"
   ]
  },
  {
   "cell_type": "code",
   "execution_count": null,
   "metadata": {},
   "outputs": [],
   "source": [
    "sns.countplot(final_predict)"
   ]
  },
  {
   "cell_type": "code",
   "execution_count": null,
   "metadata": {},
   "outputs": [],
   "source": [
    "# Creating pickle object of the final model : \n",
    "import pickle    \n",
    "\n",
    "#save the model\n",
    "pickle.dump(final_model, open('final_model.sav', 'wb'))\n",
    "# save the scaler\n",
    "pickle.dump(sc, open('scaler.sav', 'wb'))"
   ]
  }
 ],
 "metadata": {
  "kernelspec": {
   "display_name": "tfm",
   "language": "python",
   "name": "tfm"
  },
  "language_info": {
   "codemirror_mode": {
    "name": "ipython",
    "version": 3
   },
   "file_extension": ".py",
   "mimetype": "text/x-python",
   "name": "python",
   "nbconvert_exporter": "python",
   "pygments_lexer": "ipython3",
   "version": "3.8.2"
  }
 },
 "nbformat": 4,
 "nbformat_minor": 4
}
